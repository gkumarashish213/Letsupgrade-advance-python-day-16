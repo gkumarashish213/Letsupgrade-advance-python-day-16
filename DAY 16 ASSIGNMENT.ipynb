{
 "cells": [
  {
   "cell_type": "markdown",
   "metadata": {},
   "source": [
    "# Make a regular expression to get all IP addresses from the below link and Extract the IP addresses.¶\n",
    "https://study-ccna.com/classes-of-ip-addresses/"
   ]
  },
  {
   "cell_type": "code",
   "execution_count": null,
   "metadata": {},
   "outputs": [],
   "source": [
    "# importing the module \n",
    "\n",
    "import re \n",
    "\n",
    "  \n",
    "# opening and reading the file  \n",
    "\n",
    "with open('C:/Users/user/Desktop/New Text Document.txt') as fh: \n",
    "\n",
    "   fstring = fh.readlines() \n",
    "\n",
    "  \n",
    "# decalring the regex pattern for IP addresses \n",
    "\n",
    "pattern = re.compile(r'(\\d{1,3}\\.\\d{1,3}\\.\\d{1,3}\\.\\d{1,3})') \n",
    "\n",
    "  \n",
    "# initializing the list object \n",
    "\n",
    "lst=[] \n",
    "\n",
    "  \n",
    "# extracting the IP addresses \n",
    "\n",
    "for line in fstring: \n",
    "\n",
    "   lst.append(pattern.search(line)[0]) \n",
    "\n",
    "  \n",
    "# displaying the extracted IP adresses \n",
    "\n",
    "print(lst) "
   ]
  }
 ],
 "metadata": {
  "kernelspec": {
   "display_name": "Python 3",
   "language": "python",
   "name": "python3"
  },
  "language_info": {
   "codemirror_mode": {
    "name": "ipython",
    "version": 3
   },
   "file_extension": ".py",
   "mimetype": "text/x-python",
   "name": "python",
   "nbconvert_exporter": "python",
   "pygments_lexer": "ipython3",
   "version": "3.7.4"
  }
 },
 "nbformat": 4,
 "nbformat_minor": 2
}
